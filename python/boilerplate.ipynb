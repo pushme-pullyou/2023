{
 "cells": [
  {
   "cell_type": "code",
   "execution_count": 15,
   "id": "5bec1791-25c1-44bb-a146-57a59ecbdfee",
   "metadata": {},
   "outputs": [
    {
     "name": "stdout",
     "output_type": "stream",
     "text": [
      "Hello World!\n"
     ]
    }
   ],
   "source": [
    "# This is a single line comment\n",
    "\n",
    "# Python Cheat sheet: https://chat.openai.com/c/839a674b-e255-4692-acff-cc45095b543c\n",
    "\n",
    "\"\"\"\n",
    "This is a \n",
    "multi-line \n",
    "comment\n",
    "\"\"\"\n",
    "x = 10  # Integer\n",
    "y = 20.5  # Float\n",
    "z = \"Hello World\"  # String\n",
    "bool_val = True  # Boolean\n",
    "none_val = None  # None type, similar to null in JavaScript\n",
    "\n",
    "print('Hello World!')\n"
   ]
  },
  {
   "cell_type": "code",
   "execution_count": 16,
   "id": "f0571028",
   "metadata": {},
   "outputs": [
    {
     "name": "stdout",
     "output_type": "stream",
     "text": [
      "x is less than y\n",
      "1\n",
      "2\n",
      "3\n",
      "4\n",
      "5\n",
      "10\n",
      "9\n",
      "8\n",
      "7\n",
      "6\n",
      "5\n",
      "4\n",
      "3\n",
      "2\n",
      "1\n"
     ]
    }
   ],
   "source": [
    "# List (similar to JavaScript arrays)\n",
    "my_list = [1, 2, 3, 4, 5]\n",
    "\n",
    "# Dictionary (similar to JavaScript objects)\n",
    "my_dict = {\"key1\": \"value1\", \"key2\": \"value2\"}\n",
    "\n",
    "# Tuple (Immutable type of List)\n",
    "my_tuple = (1, 2, 3, 4, 5)\n",
    "\n",
    "# Set (Unordered collection of unique elements)\n",
    "my_set = {1, 2, 2, 3, 4, 4, 5}  # Duplicates will be ignored\n",
    "\n",
    "\n",
    "# if...else\n",
    "if x > y:\n",
    "    print(\"x is greater than y\")\n",
    "elif x < y:\n",
    "    print(\"x is less than y\")\n",
    "else:\n",
    "    print(\"x is equal to y\")\n",
    "\n",
    "# for loop\n",
    "for i in my_list:\n",
    "    print(i)\n",
    "\n",
    "# while loop\n",
    "while x > 0:\n",
    "    print(x)\n",
    "    x -= 1\n"
   ]
  },
  {
   "cell_type": "code",
   "execution_count": 17,
   "id": "5d5c32dd-cc04-48bb-b37f-62bb5d365932",
   "metadata": {},
   "outputs": [],
   "source": [
    "import time\n",
    "time.sleep(3)"
   ]
  },
  {
   "cell_type": "code",
   "execution_count": 18,
   "id": "95e7aac9-ca9a-4cb4-9811-e077d5c1ee42",
   "metadata": {},
   "outputs": [
    {
     "data": {
      "text/plain": [
       "'Hello, Tim!'"
      ]
     },
     "execution_count": 18,
     "metadata": {},
     "output_type": "execute_result"
    }
   ],
   "source": [
    "def say_hello(recipient):\n",
    "    return 'Hello, {}!'.format(recipient)\n",
    "\n",
    "say_hello('Tim')"
   ]
  },
  {
   "cell_type": "code",
   "execution_count": 19,
   "id": "4b93a355-8549-4b90-84bb-dfb9914136d1",
   "metadata": {},
   "outputs": [
    {
     "name": "stdout",
     "output_type": "stream",
     "text": [
      "5 squared is 25\n"
     ]
    }
   ],
   "source": [
    "import numpy as np\n",
    "def square(x):\n",
    "    return x * x\n",
    "\n",
    "x = np.random.randint(1, 10)\n",
    "y = square(x)\n",
    "print('%d squared is %d' % (x, y))"
   ]
  },
  {
   "cell_type": "code",
   "execution_count": 20,
   "id": "cf0311fd-01ec-47e7-a500-7aa18da4ae02",
   "metadata": {},
   "outputs": [],
   "source": [
    "g = \"gggg\"\n"
   ]
  },
  {
   "cell_type": "code",
   "execution_count": 21,
   "id": "f643fa9c-ffba-4a52-80bf-f470df0d7e7e",
   "metadata": {},
   "outputs": [
    {
     "name": "stdout",
     "output_type": "stream",
     "text": [
      "4 squared is 16\n"
     ]
    }
   ],
   "source": [
    "x = np.random.randint(1, 10)\n",
    "y = square(x)\n",
    "print('%d squared is %d' % (x, y))"
   ]
  },
  {
   "cell_type": "code",
   "execution_count": null,
   "id": "2e30a212-9dfe-4bd2-a599-d338915387a2",
   "metadata": {},
   "outputs": [],
   "source": []
  }
 ],
 "metadata": {
  "kernelspec": {
   "display_name": "Python 3 (ipykernel)",
   "language": "python",
   "name": "python3"
  },
  "language_info": {
   "codemirror_mode": {
    "name": "ipython",
    "version": 3
   },
   "file_extension": ".py",
   "mimetype": "text/x-python",
   "name": "python",
   "nbconvert_exporter": "python",
   "pygments_lexer": "ipython3",
   "version": "3.11.4"
  }
 },
 "nbformat": 4,
 "nbformat_minor": 5
}
